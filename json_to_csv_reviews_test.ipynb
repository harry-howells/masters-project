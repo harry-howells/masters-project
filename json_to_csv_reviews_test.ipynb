{
 "cells": [
  {
   "cell_type": "code",
   "execution_count": 1,
   "id": "6a518ac7-c00c-420a-b32d-47d267a3bbef",
   "metadata": {},
   "outputs": [
    {
     "name": "stdout",
     "output_type": "stream",
     "text": [
      "Requirement already satisfied: pandas in /opt/homebrew/Cellar/jupyterlab/4.2.5_1/libexec/lib/python3.12/site-packages (2.2.3)\n",
      "Requirement already satisfied: numpy>=1.26.0 in /opt/homebrew/Cellar/jupyterlab/4.2.5_1/libexec/lib/python3.12/site-packages (from pandas) (1.26.4)\n",
      "Requirement already satisfied: python-dateutil>=2.8.2 in /opt/homebrew/Cellar/jupyterlab/4.2.5_1/libexec/lib/python3.12/site-packages (from pandas) (2.9.0.post0)\n",
      "Requirement already satisfied: pytz>=2020.1 in /opt/homebrew/Cellar/jupyterlab/4.2.5_1/libexec/lib/python3.12/site-packages (from pandas) (2024.2)\n",
      "Requirement already satisfied: tzdata>=2022.7 in /opt/homebrew/Cellar/jupyterlab/4.2.5_1/libexec/lib/python3.12/site-packages (from pandas) (2024.2)\n",
      "Requirement already satisfied: six>=1.5 in /opt/homebrew/Cellar/jupyterlab/4.2.5_1/libexec/lib/python3.12/site-packages (from python-dateutil>=2.8.2->pandas) (1.16.0)\n",
      "Note: you may need to restart the kernel to use updated packages.\n"
     ]
    }
   ],
   "source": [
    "pip install pandas"
   ]
  },
  {
   "cell_type": "code",
   "execution_count": 2,
   "id": "92b7970d-3fc1-4f77-93cd-efeb450e2643",
   "metadata": {},
   "outputs": [
    {
     "name": "stdout",
     "output_type": "stream",
     "text": [
      "Requirement already satisfied: numpy in /opt/homebrew/Cellar/jupyterlab/4.2.5_1/libexec/lib/python3.12/site-packages (1.26.4)\n",
      "Note: you may need to restart the kernel to use updated packages.\n"
     ]
    }
   ],
   "source": [
    "pip install numpy"
   ]
  },
  {
   "cell_type": "code",
   "execution_count": 3,
   "id": "6c206dd4-abcb-45e5-9de8-0732be9c49d4",
   "metadata": {},
   "outputs": [],
   "source": [
    "import pandas as pd"
   ]
  },
  {
   "cell_type": "code",
   "execution_count": 4,
   "id": "5d0468b1-db6d-429d-b28c-3c1abb3e217d",
   "metadata": {},
   "outputs": [],
   "source": [
    "import numpy as np"
   ]
  },
  {
   "cell_type": "code",
   "execution_count": 5,
   "id": "7b603355-0353-42a4-ac83-5f2897a2cf99",
   "metadata": {},
   "outputs": [],
   "source": [
    "b_pandas = []\n",
    "r_dtypes = {\"stars\": np.float16, \n",
    "            \"useful\": np.int32, \n",
    "            \"funny\": np.int32,\n",
    "            \"cool\": np.int32,\n",
    "           }\n",
    "with open(\"Downloads/yelp_dataset/yelp_academic_dataset_review.json\", \"r\") as f:\n",
    "    reader = pd.read_json(f, orient=\"records\", lines=True, \n",
    "                          dtype=r_dtypes, chunksize=1000)\n",
    "        \n",
    "    for chunk in reader:\n",
    "        reduced_chunk = chunk.drop(columns=['business_id', 'user_id'])\\\n",
    "                             .query(\"`date` >= '2017-12-01'\")\n",
    "        b_pandas.append(reduced_chunk)\n",
    "    \n",
    "b_pandas = pd.concat(b_pandas, ignore_index=True)"
   ]
  },
  {
   "cell_type": "code",
   "execution_count": 6,
   "id": "6f5f4567-4a69-426b-a39d-33c009da0b77",
   "metadata": {},
   "outputs": [
    {
     "data": {
      "text/html": [
       "<div>\n",
       "<style scoped>\n",
       "    .dataframe tbody tr th:only-of-type {\n",
       "        vertical-align: middle;\n",
       "    }\n",
       "\n",
       "    .dataframe tbody tr th {\n",
       "        vertical-align: top;\n",
       "    }\n",
       "\n",
       "    .dataframe thead th {\n",
       "        text-align: right;\n",
       "    }\n",
       "</style>\n",
       "<table border=\"1\" class=\"dataframe\">\n",
       "  <thead>\n",
       "    <tr style=\"text-align: right;\">\n",
       "      <th></th>\n",
       "      <th>review_id</th>\n",
       "      <th>stars</th>\n",
       "      <th>useful</th>\n",
       "      <th>funny</th>\n",
       "      <th>cool</th>\n",
       "      <th>text</th>\n",
       "      <th>date</th>\n",
       "    </tr>\n",
       "  </thead>\n",
       "  <tbody>\n",
       "    <tr>\n",
       "      <th>0</th>\n",
       "      <td>KU_O5udG6zpxOg-VcAEodg</td>\n",
       "      <td>3.0</td>\n",
       "      <td>0</td>\n",
       "      <td>0</td>\n",
       "      <td>0</td>\n",
       "      <td>If you decide to eat here, just be aware it is...</td>\n",
       "      <td>2018-07-07 22:09:11</td>\n",
       "    </tr>\n",
       "    <tr>\n",
       "      <th>1</th>\n",
       "      <td>lUUhg8ltDsUZ9h0xnwY4Dg</td>\n",
       "      <td>4.0</td>\n",
       "      <td>1</td>\n",
       "      <td>0</td>\n",
       "      <td>1</td>\n",
       "      <td>I was really between 3 and 4 stars for this on...</td>\n",
       "      <td>2018-07-17 03:30:07</td>\n",
       "    </tr>\n",
       "    <tr>\n",
       "      <th>2</th>\n",
       "      <td>JBWZmBy69VMggxj3eYn17Q</td>\n",
       "      <td>5.0</td>\n",
       "      <td>0</td>\n",
       "      <td>0</td>\n",
       "      <td>0</td>\n",
       "      <td>My boyfriend and I tried this deli for the fir...</td>\n",
       "      <td>2018-08-23 21:39:38</td>\n",
       "    </tr>\n",
       "    <tr>\n",
       "      <th>3</th>\n",
       "      <td>E9AB7V4z8xrt2uPF7T55FQ</td>\n",
       "      <td>5.0</td>\n",
       "      <td>0</td>\n",
       "      <td>0</td>\n",
       "      <td>0</td>\n",
       "      <td>Amazing biscuits and (fill in the blank). Grea...</td>\n",
       "      <td>2018-04-27 23:03:21</td>\n",
       "    </tr>\n",
       "    <tr>\n",
       "      <th>4</th>\n",
       "      <td>A4n4YaE-owOVgTQcrVqHUw</td>\n",
       "      <td>4.0</td>\n",
       "      <td>0</td>\n",
       "      <td>0</td>\n",
       "      <td>0</td>\n",
       "      <td>The cafe was extremely cute. We came at 8am an...</td>\n",
       "      <td>2018-07-07 20:50:12</td>\n",
       "    </tr>\n",
       "    <tr>\n",
       "      <th>...</th>\n",
       "      <td>...</td>\n",
       "      <td>...</td>\n",
       "      <td>...</td>\n",
       "      <td>...</td>\n",
       "      <td>...</td>\n",
       "      <td>...</td>\n",
       "      <td>...</td>\n",
       "    </tr>\n",
       "    <tr>\n",
       "      <th>95</th>\n",
       "      <td>OJ4DSE87REOqg_I8uQvE2w</td>\n",
       "      <td>5.0</td>\n",
       "      <td>0</td>\n",
       "      <td>0</td>\n",
       "      <td>0</td>\n",
       "      <td>This place came highly recommended from some f...</td>\n",
       "      <td>2018-03-23 14:01:38</td>\n",
       "    </tr>\n",
       "    <tr>\n",
       "      <th>96</th>\n",
       "      <td>D4UUwqW7jnKX-dXfoOpmAQ</td>\n",
       "      <td>5.0</td>\n",
       "      <td>0</td>\n",
       "      <td>0</td>\n",
       "      <td>0</td>\n",
       "      <td>Best sandwiches in St.Louis! Could eat here ev...</td>\n",
       "      <td>2018-05-28 20:23:24</td>\n",
       "    </tr>\n",
       "    <tr>\n",
       "      <th>97</th>\n",
       "      <td>GRCHq50ZC53E6RuWx2ktqA</td>\n",
       "      <td>5.0</td>\n",
       "      <td>0</td>\n",
       "      <td>0</td>\n",
       "      <td>0</td>\n",
       "      <td>The hotel is beautifully done. It has a boutiq...</td>\n",
       "      <td>2018-05-08 18:20:24</td>\n",
       "    </tr>\n",
       "    <tr>\n",
       "      <th>98</th>\n",
       "      <td>IDLGZOMnn6JTFXAZ3k8l6Q</td>\n",
       "      <td>5.0</td>\n",
       "      <td>1</td>\n",
       "      <td>0</td>\n",
       "      <td>1</td>\n",
       "      <td>I got the hot shave and it did not disappoint....</td>\n",
       "      <td>2018-06-09 02:37:37</td>\n",
       "    </tr>\n",
       "    <tr>\n",
       "      <th>99</th>\n",
       "      <td>ARaxXz4N90ew6wG-g5HLYg</td>\n",
       "      <td>2.0</td>\n",
       "      <td>0</td>\n",
       "      <td>0</td>\n",
       "      <td>0</td>\n",
       "      <td>Great food, awful service. I ordered online at...</td>\n",
       "      <td>2018-02-02 00:14:00</td>\n",
       "    </tr>\n",
       "  </tbody>\n",
       "</table>\n",
       "<p>100 rows × 7 columns</p>\n",
       "</div>"
      ],
      "text/plain": [
       "                 review_id  stars  useful  funny  cool  \\\n",
       "0   KU_O5udG6zpxOg-VcAEodg    3.0       0      0     0   \n",
       "1   lUUhg8ltDsUZ9h0xnwY4Dg    4.0       1      0     1   \n",
       "2   JBWZmBy69VMggxj3eYn17Q    5.0       0      0     0   \n",
       "3   E9AB7V4z8xrt2uPF7T55FQ    5.0       0      0     0   \n",
       "4   A4n4YaE-owOVgTQcrVqHUw    4.0       0      0     0   \n",
       "..                     ...    ...     ...    ...   ...   \n",
       "95  OJ4DSE87REOqg_I8uQvE2w    5.0       0      0     0   \n",
       "96  D4UUwqW7jnKX-dXfoOpmAQ    5.0       0      0     0   \n",
       "97  GRCHq50ZC53E6RuWx2ktqA    5.0       0      0     0   \n",
       "98  IDLGZOMnn6JTFXAZ3k8l6Q    5.0       1      0     1   \n",
       "99  ARaxXz4N90ew6wG-g5HLYg    2.0       0      0     0   \n",
       "\n",
       "                                                 text                date  \n",
       "0   If you decide to eat here, just be aware it is... 2018-07-07 22:09:11  \n",
       "1   I was really between 3 and 4 stars for this on... 2018-07-17 03:30:07  \n",
       "2   My boyfriend and I tried this deli for the fir... 2018-08-23 21:39:38  \n",
       "3   Amazing biscuits and (fill in the blank). Grea... 2018-04-27 23:03:21  \n",
       "4   The cafe was extremely cute. We came at 8am an... 2018-07-07 20:50:12  \n",
       "..                                                ...                 ...  \n",
       "95  This place came highly recommended from some f... 2018-03-23 14:01:38  \n",
       "96  Best sandwiches in St.Louis! Could eat here ev... 2018-05-28 20:23:24  \n",
       "97  The hotel is beautifully done. It has a boutiq... 2018-05-08 18:20:24  \n",
       "98  I got the hot shave and it did not disappoint.... 2018-06-09 02:37:37  \n",
       "99  Great food, awful service. I ordered online at... 2018-02-02 00:14:00  \n",
       "\n",
       "[100 rows x 7 columns]"
      ]
     },
     "execution_count": 6,
     "metadata": {},
     "output_type": "execute_result"
    }
   ],
   "source": [
    "b_pandas.head(100)"
   ]
  },
  {
   "cell_type": "code",
   "execution_count": 7,
   "id": "aea36140-bc4d-4bda-acec-fb1dac4068ce",
   "metadata": {},
   "outputs": [],
   "source": [
    "b_pandas.to_csv('reviews.csv', encoding = \"utf-8\", index=False, chunksize = 1000)"
   ]
  },
  {
   "cell_type": "code",
   "execution_count": 8,
   "id": "df5c5105-b508-4ca1-882f-d2510a552f7d",
   "metadata": {},
   "outputs": [],
   "source": [
    "test_df = b_pandas[b_pandas[\"text\"].str.contains('veg')]"
   ]
  },
  {
   "cell_type": "code",
   "execution_count": 9,
   "id": "f70eb357-5af8-43bd-9fc0-08067647fa68",
   "metadata": {},
   "outputs": [],
   "source": [
    "train_df = b_pandas[b_pandas[\"text\"].str.contains('veg') == False]"
   ]
  },
  {
   "cell_type": "code",
   "execution_count": 10,
   "id": "3f55d109-91a1-4f2b-b553-23903140bafb",
   "metadata": {},
   "outputs": [
    {
     "name": "stderr",
     "output_type": "stream",
     "text": [
      "/opt/homebrew/Cellar/jupyterlab/4.2.5_1/libexec/lib/python3.12/site-packages/pandas/core/nanops.py:1487: RuntimeWarning: overflow encountered in cast\n",
      "  return dtype.type(n)\n",
      "/opt/homebrew/Cellar/jupyterlab/4.2.5_1/libexec/lib/python3.12/site-packages/numpy/core/_methods.py:49: RuntimeWarning: overflow encountered in reduce\n",
      "  return umr_sum(a, axis, dtype, out, keepdims, initial, where)\n",
      "/opt/homebrew/Cellar/jupyterlab/4.2.5_1/libexec/lib/python3.12/site-packages/pandas/core/nanops.py:731: RuntimeWarning: invalid value encountered in scalar divide\n",
      "  the_mean = the_sum / count if count > 0 else np.nan\n"
     ]
    },
    {
     "data": {
      "text/html": [
       "<div>\n",
       "<style scoped>\n",
       "    .dataframe tbody tr th:only-of-type {\n",
       "        vertical-align: middle;\n",
       "    }\n",
       "\n",
       "    .dataframe tbody tr th {\n",
       "        vertical-align: top;\n",
       "    }\n",
       "\n",
       "    .dataframe thead th {\n",
       "        text-align: right;\n",
       "    }\n",
       "</style>\n",
       "<table border=\"1\" class=\"dataframe\">\n",
       "  <thead>\n",
       "    <tr style=\"text-align: right;\">\n",
       "      <th></th>\n",
       "      <th>stars</th>\n",
       "      <th>useful</th>\n",
       "      <th>funny</th>\n",
       "      <th>cool</th>\n",
       "      <th>date</th>\n",
       "    </tr>\n",
       "  </thead>\n",
       "  <tbody>\n",
       "    <tr>\n",
       "      <th>count</th>\n",
       "      <td>120239.0</td>\n",
       "      <td>120239.000000</td>\n",
       "      <td>120239.000000</td>\n",
       "      <td>120239.000000</td>\n",
       "      <td>120239</td>\n",
       "    </tr>\n",
       "    <tr>\n",
       "      <th>mean</th>\n",
       "      <td>NaN</td>\n",
       "      <td>1.497526</td>\n",
       "      <td>0.407871</td>\n",
       "      <td>0.953809</td>\n",
       "      <td>2019-09-08 22:21:00.885403392</td>\n",
       "    </tr>\n",
       "    <tr>\n",
       "      <th>min</th>\n",
       "      <td>1.0</td>\n",
       "      <td>0.000000</td>\n",
       "      <td>0.000000</td>\n",
       "      <td>0.000000</td>\n",
       "      <td>2017-12-01 00:00:28</td>\n",
       "    </tr>\n",
       "    <tr>\n",
       "      <th>25%</th>\n",
       "      <td>4.0</td>\n",
       "      <td>0.000000</td>\n",
       "      <td>0.000000</td>\n",
       "      <td>0.000000</td>\n",
       "      <td>2018-09-09 00:21:09.500000</td>\n",
       "    </tr>\n",
       "    <tr>\n",
       "      <th>50%</th>\n",
       "      <td>5.0</td>\n",
       "      <td>0.000000</td>\n",
       "      <td>0.000000</td>\n",
       "      <td>0.000000</td>\n",
       "      <td>2019-07-06 15:47:17</td>\n",
       "    </tr>\n",
       "    <tr>\n",
       "      <th>75%</th>\n",
       "      <td>5.0</td>\n",
       "      <td>2.000000</td>\n",
       "      <td>0.000000</td>\n",
       "      <td>1.000000</td>\n",
       "      <td>2020-08-16 03:31:57</td>\n",
       "    </tr>\n",
       "    <tr>\n",
       "      <th>max</th>\n",
       "      <td>5.0</td>\n",
       "      <td>222.000000</td>\n",
       "      <td>159.000000</td>\n",
       "      <td>207.000000</td>\n",
       "      <td>2022-01-19 18:54:31</td>\n",
       "    </tr>\n",
       "    <tr>\n",
       "      <th>std</th>\n",
       "      <td>0.0</td>\n",
       "      <td>4.485012</td>\n",
       "      <td>2.297913</td>\n",
       "      <td>3.984243</td>\n",
       "      <td>NaN</td>\n",
       "    </tr>\n",
       "  </tbody>\n",
       "</table>\n",
       "</div>"
      ],
      "text/plain": [
       "          stars         useful          funny           cool  \\\n",
       "count  120239.0  120239.000000  120239.000000  120239.000000   \n",
       "mean        NaN       1.497526       0.407871       0.953809   \n",
       "min         1.0       0.000000       0.000000       0.000000   \n",
       "25%         4.0       0.000000       0.000000       0.000000   \n",
       "50%         5.0       0.000000       0.000000       0.000000   \n",
       "75%         5.0       2.000000       0.000000       1.000000   \n",
       "max         5.0     222.000000     159.000000     207.000000   \n",
       "std         0.0       4.485012       2.297913       3.984243   \n",
       "\n",
       "                                date  \n",
       "count                         120239  \n",
       "mean   2019-09-08 22:21:00.885403392  \n",
       "min              2017-12-01 00:00:28  \n",
       "25%       2018-09-09 00:21:09.500000  \n",
       "50%              2019-07-06 15:47:17  \n",
       "75%              2020-08-16 03:31:57  \n",
       "max              2022-01-19 18:54:31  \n",
       "std                              NaN  "
      ]
     },
     "execution_count": 10,
     "metadata": {},
     "output_type": "execute_result"
    }
   ],
   "source": [
    "test_df.describe()"
   ]
  },
  {
   "cell_type": "code",
   "execution_count": 11,
   "id": "d468cccf-289f-4904-a848-67e4ab5d6c0c",
   "metadata": {},
   "outputs": [
    {
     "name": "stdout",
     "output_type": "stream",
     "text": [
      "Smallest length: 34\n",
      "Largest length: 5000\n",
      "Mean length: 746.4444897246318\n"
     ]
    }
   ],
   "source": [
    "string_lengths = test_df[\"text\"].str.len()\n",
    "\n",
    "# Find the smallest, largest, and mean length\n",
    "smallest_length = string_lengths.min()\n",
    "largest_length = string_lengths.max()\n",
    "mean_length = string_lengths.mean()\n",
    "\n",
    "# Display the results\n",
    "print(f\"Smallest length: {smallest_length}\")\n",
    "print(f\"Largest length: {largest_length}\")\n",
    "print(f\"Mean length: {mean_length}\")"
   ]
  },
  {
   "cell_type": "code",
   "execution_count": 12,
   "id": "a2af3aa1-54fc-44d2-80c8-8d1cc8238ea1",
   "metadata": {},
   "outputs": [
    {
     "name": "stderr",
     "output_type": "stream",
     "text": [
      "/opt/homebrew/Cellar/jupyterlab/4.2.5_1/libexec/lib/python3.12/site-packages/pandas/core/nanops.py:1487: RuntimeWarning: overflow encountered in cast\n",
      "  return dtype.type(n)\n",
      "/opt/homebrew/Cellar/jupyterlab/4.2.5_1/libexec/lib/python3.12/site-packages/numpy/core/_methods.py:49: RuntimeWarning: overflow encountered in reduce\n",
      "  return umr_sum(a, axis, dtype, out, keepdims, initial, where)\n",
      "/opt/homebrew/Cellar/jupyterlab/4.2.5_1/libexec/lib/python3.12/site-packages/pandas/core/nanops.py:731: RuntimeWarning: invalid value encountered in scalar divide\n",
      "  the_mean = the_sum / count if count > 0 else np.nan\n"
     ]
    },
    {
     "data": {
      "text/html": [
       "<div>\n",
       "<style scoped>\n",
       "    .dataframe tbody tr th:only-of-type {\n",
       "        vertical-align: middle;\n",
       "    }\n",
       "\n",
       "    .dataframe tbody tr th {\n",
       "        vertical-align: top;\n",
       "    }\n",
       "\n",
       "    .dataframe thead th {\n",
       "        text-align: right;\n",
       "    }\n",
       "</style>\n",
       "<table border=\"1\" class=\"dataframe\">\n",
       "  <thead>\n",
       "    <tr style=\"text-align: right;\">\n",
       "      <th></th>\n",
       "      <th>stars</th>\n",
       "      <th>useful</th>\n",
       "      <th>funny</th>\n",
       "      <th>cool</th>\n",
       "      <th>date</th>\n",
       "    </tr>\n",
       "  </thead>\n",
       "  <tbody>\n",
       "    <tr>\n",
       "      <th>count</th>\n",
       "      <td>2960340.0</td>\n",
       "      <td>2.960340e+06</td>\n",
       "      <td>2.960340e+06</td>\n",
       "      <td>2.960340e+06</td>\n",
       "      <td>2960340</td>\n",
       "    </tr>\n",
       "    <tr>\n",
       "      <th>mean</th>\n",
       "      <td>NaN</td>\n",
       "      <td>9.343437e-01</td>\n",
       "      <td>2.246070e-01</td>\n",
       "      <td>4.628357e-01</td>\n",
       "      <td>2019-10-10 18:04:56.266072832</td>\n",
       "    </tr>\n",
       "    <tr>\n",
       "      <th>min</th>\n",
       "      <td>1.0</td>\n",
       "      <td>-1.000000e+00</td>\n",
       "      <td>0.000000e+00</td>\n",
       "      <td>0.000000e+00</td>\n",
       "      <td>2017-12-01 00:00:52</td>\n",
       "    </tr>\n",
       "    <tr>\n",
       "      <th>25%</th>\n",
       "      <td>2.0</td>\n",
       "      <td>0.000000e+00</td>\n",
       "      <td>0.000000e+00</td>\n",
       "      <td>0.000000e+00</td>\n",
       "      <td>2018-10-06 14:14:08.500000</td>\n",
       "    </tr>\n",
       "    <tr>\n",
       "      <th>50%</th>\n",
       "      <td>5.0</td>\n",
       "      <td>0.000000e+00</td>\n",
       "      <td>0.000000e+00</td>\n",
       "      <td>0.000000e+00</td>\n",
       "      <td>2019-08-08 20:08:17.500000</td>\n",
       "    </tr>\n",
       "    <tr>\n",
       "      <th>75%</th>\n",
       "      <td>5.0</td>\n",
       "      <td>1.000000e+00</td>\n",
       "      <td>0.000000e+00</td>\n",
       "      <td>0.000000e+00</td>\n",
       "      <td>2020-10-11 02:36:40.500000</td>\n",
       "    </tr>\n",
       "    <tr>\n",
       "      <th>max</th>\n",
       "      <td>5.0</td>\n",
       "      <td>5.390000e+02</td>\n",
       "      <td>2.540000e+02</td>\n",
       "      <td>3.040000e+02</td>\n",
       "      <td>2022-01-19 19:48:45</td>\n",
       "    </tr>\n",
       "    <tr>\n",
       "      <th>std</th>\n",
       "      <td>0.0</td>\n",
       "      <td>2.886235e+00</td>\n",
       "      <td>1.334776e+00</td>\n",
       "      <td>2.303264e+00</td>\n",
       "      <td>NaN</td>\n",
       "    </tr>\n",
       "  </tbody>\n",
       "</table>\n",
       "</div>"
      ],
      "text/plain": [
       "           stars        useful         funny          cool  \\\n",
       "count  2960340.0  2.960340e+06  2.960340e+06  2.960340e+06   \n",
       "mean         NaN  9.343437e-01  2.246070e-01  4.628357e-01   \n",
       "min          1.0 -1.000000e+00  0.000000e+00  0.000000e+00   \n",
       "25%          2.0  0.000000e+00  0.000000e+00  0.000000e+00   \n",
       "50%          5.0  0.000000e+00  0.000000e+00  0.000000e+00   \n",
       "75%          5.0  1.000000e+00  0.000000e+00  0.000000e+00   \n",
       "max          5.0  5.390000e+02  2.540000e+02  3.040000e+02   \n",
       "std          0.0  2.886235e+00  1.334776e+00  2.303264e+00   \n",
       "\n",
       "                                date  \n",
       "count                        2960340  \n",
       "mean   2019-10-10 18:04:56.266072832  \n",
       "min              2017-12-01 00:00:52  \n",
       "25%       2018-10-06 14:14:08.500000  \n",
       "50%       2019-08-08 20:08:17.500000  \n",
       "75%       2020-10-11 02:36:40.500000  \n",
       "max              2022-01-19 19:48:45  \n",
       "std                              NaN  "
      ]
     },
     "execution_count": 12,
     "metadata": {},
     "output_type": "execute_result"
    }
   ],
   "source": [
    "train_df.describe()"
   ]
  },
  {
   "cell_type": "code",
   "execution_count": 13,
   "id": "260de6d7-fd08-4482-8a04-35e0b7adf62a",
   "metadata": {},
   "outputs": [
    {
     "name": "stdout",
     "output_type": "stream",
     "text": [
      "Smallest length: 1\n",
      "Largest length: 5000\n",
      "Mean length: 512.0680344149658\n"
     ]
    }
   ],
   "source": [
    "string_lengths = train_df[\"text\"].str.len()\n",
    "\n",
    "# Find the smallest, largest, and mean length\n",
    "smallest_length = string_lengths.min()\n",
    "largest_length = string_lengths.max()\n",
    "mean_length = string_lengths.mean()\n",
    "\n",
    "# Display the results\n",
    "print(f\"Smallest length: {smallest_length}\")\n",
    "print(f\"Largest length: {largest_length}\")\n",
    "print(f\"Mean length: {mean_length}\")"
   ]
  },
  {
   "cell_type": "code",
   "execution_count": 12,
   "id": "ec3d6e71-8275-41c8-94a9-b1724839cde2",
   "metadata": {},
   "outputs": [
    {
     "data": {
      "text/plain": [
       "1       I was really between 3 and 4 stars for this on...\n",
       "75      This place just opened up near rivers edge apa...\n",
       "91      Great location, great food, and friendly staff...\n",
       "106     I've been a few times and I haven't been disap...\n",
       "148     Love this place! Almost all of their menu item...\n",
       "                              ...                        \n",
       "2634    Oh my the hummus excellent served with sliced ...\n",
       "2688    High end Mediterranean food is not what rolls ...\n",
       "2696    Just had the Thai rice bowl. This is a dish of...\n",
       "2720    I was in Doylestown on this Monday last servin...\n",
       "2729    The Fountain on Locust is a Saint Louis gem! I...\n",
       "Name: text, Length: 100, dtype: object"
      ]
     },
     "execution_count": 12,
     "metadata": {},
     "output_type": "execute_result"
    }
   ],
   "source": [
    "test_df.head(100)[\"text\"]"
   ]
  },
  {
   "cell_type": "code",
   "execution_count": 13,
   "id": "882c9f7b-5bd0-4e7a-8676-540f9f4b3673",
   "metadata": {},
   "outputs": [
    {
     "data": {
      "text/plain": [
       "0      If you decide to eat here, just be aware it is...\n",
       "2      My boyfriend and I tried this deli for the fir...\n",
       "3      Amazing biscuits and (fill in the blank). Grea...\n",
       "4      The cafe was extremely cute. We came at 8am an...\n",
       "5      I've only had the cannolis here but they are a...\n",
       "                             ...                        \n",
       "98     I got the hot shave and it did not disappoint....\n",
       "99     Great food, awful service. I ordered online at...\n",
       "100    Cute Japanese restaurant in Old City. Fresh su...\n",
       "101    Great talent but that is not important when ti...\n",
       "102    Had a great dinner at Spasso. My parents alway...\n",
       "Name: text, Length: 100, dtype: object"
      ]
     },
     "execution_count": 13,
     "metadata": {},
     "output_type": "execute_result"
    }
   ],
   "source": [
    "train_df.head(100)[\"text\"]"
   ]
  },
  {
   "cell_type": "code",
   "execution_count": 14,
   "id": "96dc225a-9789-49d3-8120-6ba9314d98d8",
   "metadata": {},
   "outputs": [],
   "source": [
    "import string"
   ]
  },
  {
   "cell_type": "code",
   "execution_count": 15,
   "id": "2834e2e7-6a43-43bd-9edf-b4c3075c5f23",
   "metadata": {},
   "outputs": [
    {
     "data": {
      "text/plain": [
       "1          I was really between 3 and 4 stars for this on...\n",
       "75         This place just opened up near rivers edge apa...\n",
       "91         Great location  great food  and friendly staff...\n",
       "106        I ve been a few times and I haven t been disap...\n",
       "148        Love this place  Almost all of their menu item...\n",
       "                                 ...                        \n",
       "3080500    So  to be honest  I was not that impressed  Co...\n",
       "3080509    Horrible owner  Thinks she is better than ever...\n",
       "3080520    Why 4 stars  Because it was a tasty lunch for ...\n",
       "3080521    I visited Mei Mei for the first time to celebr...\n",
       "3080544    Lotus is a Vietnamese cuisine restaurant adjus...\n",
       "Name: text, Length: 120239, dtype: object"
      ]
     },
     "execution_count": 15,
     "metadata": {},
     "output_type": "execute_result"
    }
   ],
   "source": [
    "test_df[\"text\"].str.replace(f\"[{string.punctuation}]\", \" \", regex=True)"
   ]
  },
  {
   "cell_type": "code",
   "execution_count": 16,
   "id": "b13e2295-36b5-4ad1-acf1-d5a709634765",
   "metadata": {},
   "outputs": [
    {
     "data": {
      "text/plain": [
       "0          If you decide to eat here  just be aware it is...\n",
       "2          My boyfriend and I tried this deli for the fir...\n",
       "3          Amazing biscuits and  fill in the blank   Grea...\n",
       "4          The cafe was extremely cute  We came at 8am an...\n",
       "5          I ve only had the cannolis here but they are a...\n",
       "                                 ...                        \n",
       "3080574    We redesigned my moms dress and mad it complet...\n",
       "3080575    This spot offers a great  affordable east week...\n",
       "3080576    This Home Depot won me over when I needed to g...\n",
       "3080577    For when I m feeling like ignoring my calorie ...\n",
       "3080578    Located in the  Walking District  in Nashville...\n",
       "Name: text, Length: 2960340, dtype: object"
      ]
     },
     "execution_count": 16,
     "metadata": {},
     "output_type": "execute_result"
    }
   ],
   "source": [
    "train_df[\"text\"].str.replace(f\"[{string.punctuation}]\", \" \", regex=True)"
   ]
  },
  {
   "cell_type": "code",
   "execution_count": 17,
   "id": "fef336c9-c916-458d-86f3-7169dbe0f68f",
   "metadata": {},
   "outputs": [],
   "source": [
    "null_counts = test_df.isnull().sum()"
   ]
  },
  {
   "cell_type": "code",
   "execution_count": 18,
   "id": "411e0e16-2c0b-4886-b24a-6fc7dd66a908",
   "metadata": {},
   "outputs": [
    {
     "name": "stdout",
     "output_type": "stream",
     "text": [
      "review_id    0\n",
      "stars        0\n",
      "useful       0\n",
      "funny        0\n",
      "cool         0\n",
      "text         0\n",
      "date         0\n",
      "dtype: int64\n"
     ]
    }
   ],
   "source": [
    "print(null_counts)"
   ]
  },
  {
   "cell_type": "code",
   "execution_count": 19,
   "id": "59ad9584-10e1-41d4-a07c-117adea06900",
   "metadata": {},
   "outputs": [
    {
     "name": "stderr",
     "output_type": "stream",
     "text": [
      "/opt/homebrew/Cellar/jupyterlab/4.2.5_1/libexec/lib/python3.12/site-packages/pandas/core/nanops.py:1487: RuntimeWarning: overflow encountered in cast\n",
      "  return dtype.type(n)\n",
      "/opt/homebrew/Cellar/jupyterlab/4.2.5_1/libexec/lib/python3.12/site-packages/numpy/_core/_methods.py:52: RuntimeWarning: overflow encountered in reduce\n",
      "  return umr_sum(a, axis, dtype, out, keepdims, initial, where)\n",
      "/opt/homebrew/Cellar/jupyterlab/4.2.5_1/libexec/lib/python3.12/site-packages/pandas/core/nanops.py:731: RuntimeWarning: invalid value encountered in scalar divide\n",
      "  the_mean = the_sum / count if count > 0 else np.nan\n"
     ]
    },
    {
     "data": {
      "text/html": [
       "<div>\n",
       "<style scoped>\n",
       "    .dataframe tbody tr th:only-of-type {\n",
       "        vertical-align: middle;\n",
       "    }\n",
       "\n",
       "    .dataframe tbody tr th {\n",
       "        vertical-align: top;\n",
       "    }\n",
       "\n",
       "    .dataframe thead th {\n",
       "        text-align: right;\n",
       "    }\n",
       "</style>\n",
       "<table border=\"1\" class=\"dataframe\">\n",
       "  <thead>\n",
       "    <tr style=\"text-align: right;\">\n",
       "      <th></th>\n",
       "      <th>stars</th>\n",
       "      <th>useful</th>\n",
       "      <th>funny</th>\n",
       "      <th>cool</th>\n",
       "      <th>date</th>\n",
       "    </tr>\n",
       "  </thead>\n",
       "  <tbody>\n",
       "    <tr>\n",
       "      <th>count</th>\n",
       "      <td>120239.0</td>\n",
       "      <td>120239.000000</td>\n",
       "      <td>120239.000000</td>\n",
       "      <td>120239.000000</td>\n",
       "      <td>120239</td>\n",
       "    </tr>\n",
       "    <tr>\n",
       "      <th>mean</th>\n",
       "      <td>NaN</td>\n",
       "      <td>1.497526</td>\n",
       "      <td>0.407871</td>\n",
       "      <td>0.953809</td>\n",
       "      <td>2019-09-08 22:21:00.885403392</td>\n",
       "    </tr>\n",
       "    <tr>\n",
       "      <th>min</th>\n",
       "      <td>1.0</td>\n",
       "      <td>0.000000</td>\n",
       "      <td>0.000000</td>\n",
       "      <td>0.000000</td>\n",
       "      <td>2017-12-01 00:00:28</td>\n",
       "    </tr>\n",
       "    <tr>\n",
       "      <th>25%</th>\n",
       "      <td>4.0</td>\n",
       "      <td>0.000000</td>\n",
       "      <td>0.000000</td>\n",
       "      <td>0.000000</td>\n",
       "      <td>2018-09-09 00:21:09.500000</td>\n",
       "    </tr>\n",
       "    <tr>\n",
       "      <th>50%</th>\n",
       "      <td>5.0</td>\n",
       "      <td>0.000000</td>\n",
       "      <td>0.000000</td>\n",
       "      <td>0.000000</td>\n",
       "      <td>2019-07-06 15:47:17</td>\n",
       "    </tr>\n",
       "    <tr>\n",
       "      <th>75%</th>\n",
       "      <td>5.0</td>\n",
       "      <td>2.000000</td>\n",
       "      <td>0.000000</td>\n",
       "      <td>1.000000</td>\n",
       "      <td>2020-08-16 03:31:57</td>\n",
       "    </tr>\n",
       "    <tr>\n",
       "      <th>max</th>\n",
       "      <td>5.0</td>\n",
       "      <td>222.000000</td>\n",
       "      <td>159.000000</td>\n",
       "      <td>207.000000</td>\n",
       "      <td>2022-01-19 18:54:31</td>\n",
       "    </tr>\n",
       "    <tr>\n",
       "      <th>std</th>\n",
       "      <td>0.0</td>\n",
       "      <td>4.485012</td>\n",
       "      <td>2.297913</td>\n",
       "      <td>3.984243</td>\n",
       "      <td>NaN</td>\n",
       "    </tr>\n",
       "  </tbody>\n",
       "</table>\n",
       "</div>"
      ],
      "text/plain": [
       "          stars         useful          funny           cool  \\\n",
       "count  120239.0  120239.000000  120239.000000  120239.000000   \n",
       "mean        NaN       1.497526       0.407871       0.953809   \n",
       "min         1.0       0.000000       0.000000       0.000000   \n",
       "25%         4.0       0.000000       0.000000       0.000000   \n",
       "50%         5.0       0.000000       0.000000       0.000000   \n",
       "75%         5.0       2.000000       0.000000       1.000000   \n",
       "max         5.0     222.000000     159.000000     207.000000   \n",
       "std         0.0       4.485012       2.297913       3.984243   \n",
       "\n",
       "                                date  \n",
       "count                         120239  \n",
       "mean   2019-09-08 22:21:00.885403392  \n",
       "min              2017-12-01 00:00:28  \n",
       "25%       2018-09-09 00:21:09.500000  \n",
       "50%              2019-07-06 15:47:17  \n",
       "75%              2020-08-16 03:31:57  \n",
       "max              2022-01-19 18:54:31  \n",
       "std                              NaN  "
      ]
     },
     "execution_count": 19,
     "metadata": {},
     "output_type": "execute_result"
    }
   ],
   "source": [
    "test_df.describe()"
   ]
  },
  {
   "cell_type": "code",
   "execution_count": 20,
   "id": "5525b579-99ca-42b2-8836-d1c431f4120c",
   "metadata": {},
   "outputs": [],
   "source": [
    "test_df.to_csv('clean_project_test.csv', encoding = \"utf-8\", index=False, chunksize = 1000)"
   ]
  },
  {
   "cell_type": "code",
   "execution_count": 21,
   "id": "a2852b1a-7e77-4060-9d19-2b734017619b",
   "metadata": {},
   "outputs": [],
   "source": [
    "train_df.sample(n=120239).to_csv('clean_project_train.csv', encoding = \"utf-8\", index=False, chunksize = 1000)"
   ]
  },
  {
   "cell_type": "code",
   "execution_count": 17,
   "id": "7bc9fddc-2209-4e0c-99a3-2c632df7f344",
   "metadata": {},
   "outputs": [
    {
     "data": {
      "text/plain": [
       "array([4., 5., 1., 3., 2.], dtype=float16)"
      ]
     },
     "execution_count": 17,
     "metadata": {},
     "output_type": "execute_result"
    }
   ],
   "source": [
    "filtered_df['stars'].unique()"
   ]
  },
  {
   "cell_type": "code",
   "execution_count": null,
   "id": "58b6b7ae-7aac-48ea-b8c4-fd2b29a62baf",
   "metadata": {},
   "outputs": [],
   "source": []
  }
 ],
 "metadata": {
  "kernelspec": {
   "display_name": "Python 3 (ipykernel)",
   "language": "python",
   "name": "python3"
  },
  "language_info": {
   "codemirror_mode": {
    "name": "ipython",
    "version": 3
   },
   "file_extension": ".py",
   "mimetype": "text/x-python",
   "name": "python",
   "nbconvert_exporter": "python",
   "pygments_lexer": "ipython3",
   "version": "3.12.6"
  }
 },
 "nbformat": 4,
 "nbformat_minor": 5
}
